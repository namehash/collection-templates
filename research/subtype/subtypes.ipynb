{
 "cells": [
  {
   "cell_type": "markdown",
   "id": "fe751f6e",
   "metadata": {},
   "source": [
    "# Subtypes"
   ]
  },
  {
   "cell_type": "code",
   "execution_count": 86,
   "id": "bf93db46",
   "metadata": {},
   "outputs": [],
   "source": [
    "from collections import Counter\n",
    "\n",
    "from rocksdict import Rdict"
   ]
  },
  {
   "cell_type": "code",
   "execution_count": 2,
   "id": "1157560e",
   "metadata": {},
   "outputs": [
    {
     "name": "stdout",
     "output_type": "stream",
     "text": [
      "db2.rocks  db2.rocks.zip  subtypes.ipynb\r\n"
     ]
    }
   ],
   "source": [
    "!ls"
   ]
  },
  {
   "cell_type": "code",
   "execution_count": 3,
   "id": "5f4619fa",
   "metadata": {},
   "outputs": [],
   "source": [
    "rdict = Rdict('db2.rocks')"
   ]
  },
  {
   "cell_type": "code",
   "execution_count": 4,
   "id": "b427e6d2",
   "metadata": {},
   "outputs": [
    {
     "data": {
      "text/plain": [
       "{'instance_of': ['Q4167836']}"
      ]
     },
     "execution_count": 4,
     "metadata": {},
     "output_type": "execute_result"
    }
   ],
   "source": [
    "rdict['Q10011375']"
   ]
  },
  {
   "cell_type": "code",
   "execution_count": 5,
   "id": "1ac22a66",
   "metadata": {},
   "outputs": [
    {
     "data": {
      "text/plain": [
       "{'instance_of': ['Q42396390', 'Q108914651']}"
      ]
     },
     "execution_count": 5,
     "metadata": {},
     "output_type": "execute_result"
    }
   ],
   "source": [
    "rdict['P10003']"
   ]
  },
  {
   "cell_type": "code",
   "execution_count": 6,
   "id": "7467f5c7",
   "metadata": {},
   "outputs": [
    {
     "data": {
      "text/plain": [
       "{'subclass_of': ['Q811979', 'Q13226383']}"
      ]
     },
     "execution_count": 6,
     "metadata": {},
     "output_type": "execute_result"
    }
   ],
   "source": [
    "rdict['Q41176']"
   ]
  },
  {
   "cell_type": "code",
   "execution_count": 7,
   "id": "d1b308ac",
   "metadata": {},
   "outputs": [
    {
     "name": "stdout",
     "output_type": "stream",
     "text": [
      "CPU times: user 31.7 s, sys: 947 ms, total: 32.6 s\n",
      "Wall time: 34.5 s\n"
     ]
    },
    {
     "data": {
      "text/plain": [
       "58661667"
      ]
     },
     "execution_count": 7,
     "metadata": {},
     "output_type": "execute_result"
    }
   ],
   "source": [
    "%%time\n",
    "\n",
    "entries_count = 0\n",
    "for _ in rdict.keys():\n",
    "    entries_count += 1\n",
    "entries_count"
   ]
  },
  {
   "cell_type": "code",
   "execution_count": 8,
   "id": "32666223",
   "metadata": {},
   "outputs": [
    {
     "name": "stdout",
     "output_type": "stream",
     "text": [
      "CPU times: user 1min 33s, sys: 1.02 s, total: 1min 34s\n",
      "Wall time: 1min 34s\n"
     ]
    },
    {
     "data": {
      "text/plain": [
       "(55912049, 350648, 2398970)"
      ]
     },
     "execution_count": 8,
     "metadata": {},
     "output_type": "execute_result"
    }
   ],
   "source": [
    "%%time\n",
    "\n",
    "only_instance_of = 0\n",
    "only_subclass_of = 0\n",
    "both = 0\n",
    "for key, values in rdict.items():\n",
    "    if 'instance_of' in values and 'subclass_of' in values:\n",
    "        both += 1\n",
    "    elif 'instance_of' in values:\n",
    "        only_instance_of += 1\n",
    "    elif 'subclass_of' in values:\n",
    "        only_subclass_of += 1\n",
    "\n",
    "only_instance_of, only_subclass_of, both"
   ]
  },
  {
   "cell_type": "code",
   "execution_count": 9,
   "id": "cf77a142",
   "metadata": {},
   "outputs": [
    {
     "name": "stdout",
     "output_type": "stream",
     "text": [
      "CPU times: user 1min 42s, sys: 840 ms, total: 1min 43s\n",
      "Wall time: 1min 43s\n"
     ]
    },
    {
     "data": {
      "text/plain": [
       "[(1, 54582062),\n",
       " (2, 3248883),\n",
       " (3, 403636),\n",
       " (4, 54934),\n",
       " (5, 16645),\n",
       " (6, 3189),\n",
       " (7, 943),\n",
       " (8, 400),\n",
       " (9, 152),\n",
       " (10, 67),\n",
       " (11, 31),\n",
       " (12, 28),\n",
       " (13, 11),\n",
       " (15, 9),\n",
       " (14, 6),\n",
       " (16, 6),\n",
       " (24, 4),\n",
       " (20, 2),\n",
       " (18, 2),\n",
       " (92, 1),\n",
       " (51, 1),\n",
       " (58, 1),\n",
       " (25, 1),\n",
       " (40, 1),\n",
       " (19, 1),\n",
       " (55, 1),\n",
       " (27, 1),\n",
       " (22, 1)]"
      ]
     },
     "execution_count": 9,
     "metadata": {},
     "output_type": "execute_result"
    }
   ],
   "source": [
    "%%time\n",
    "\n",
    "instance_of_lengths = Counter()\n",
    "for key, values in rdict.items():\n",
    "    if 'instance_of' in values:\n",
    "        instance_of_lengths[len(values['instance_of'])] += 1\n",
    "\n",
    "instance_of_lengths.most_common()"
   ]
  },
  {
   "cell_type": "markdown",
   "id": "0686856f",
   "metadata": {},
   "source": [
    "## NetworkX"
   ]
  },
  {
   "cell_type": "code",
   "execution_count": 10,
   "id": "5a3f4975",
   "metadata": {},
   "outputs": [],
   "source": [
    "import sys\n",
    "import networkx as nx"
   ]
  },
  {
   "cell_type": "code",
   "execution_count": 11,
   "id": "9e733731",
   "metadata": {},
   "outputs": [
    {
     "name": "stdout",
     "output_type": "stream",
     "text": [
      "CPU times: user 1min 29s, sys: 1.13 s, total: 1min 31s\n",
      "Wall time: 1min 31s\n"
     ]
    },
    {
     "data": {
      "text/plain": [
       "(3402319, 27436344)"
      ]
     },
     "execution_count": 11,
     "metadata": {},
     "output_type": "execute_result"
    }
   ],
   "source": [
    "%%time\n",
    "\n",
    "subclass_edges = []\n",
    "for key, values in rdict.items():\n",
    "    for super_class in values.get('subclass_of', []):\n",
    "        subclass_edges.append((key, super_class))\n",
    "        \n",
    "len(subclass_edges), sys.getsizeof(subclass_edges)"
   ]
  },
  {
   "cell_type": "code",
   "execution_count": 12,
   "id": "f94c60f1",
   "metadata": {},
   "outputs": [],
   "source": [
    "subclass_graph = nx.DiGraph(subclass_edges)"
   ]
  },
  {
   "cell_type": "code",
   "execution_count": 13,
   "id": "13dc986f",
   "metadata": {},
   "outputs": [
    {
     "data": {
      "text/plain": [
       "False"
      ]
     },
     "execution_count": 13,
     "metadata": {},
     "output_type": "execute_result"
    }
   ],
   "source": [
    "nx.is_directed_acyclic_graph(subclass_graph)"
   ]
  },
  {
   "cell_type": "code",
   "execution_count": 14,
   "id": "11f1db4e",
   "metadata": {},
   "outputs": [
    {
     "data": {
      "text/plain": [
       "[('Q1799072', 'Q2695280'), ('Q2695280', 'Q1799072')]"
      ]
     },
     "execution_count": 14,
     "metadata": {},
     "output_type": "execute_result"
    }
   ],
   "source": [
    "nx.find_cycle(subclass_graph)"
   ]
  },
  {
   "cell_type": "code",
   "execution_count": 15,
   "id": "8701258e",
   "metadata": {},
   "outputs": [
    {
     "data": {
      "text/plain": [
       "{'instance_of': ['Q1021645', 'Q11303', 'Q570116']}"
      ]
     },
     "execution_count": 15,
     "metadata": {},
     "output_type": "execute_result"
    }
   ],
   "source": [
    "# Empire State Building\n",
    "rdict['Q9188']"
   ]
  },
  {
   "cell_type": "code",
   "execution_count": 16,
   "id": "fe3d0dd2",
   "metadata": {},
   "outputs": [
    {
     "name": "stdout",
     "output_type": "stream",
     "text": [
      "33.7 µs ± 1.93 µs per loop (mean ± std. dev. of 7 runs, 10,000 loops each)\n"
     ]
    }
   ],
   "source": [
    "# skyscraper -> structure\n",
    "%timeit nx.has_path(subclass_graph, 'Q11303', 'Q6671777')"
   ]
  },
  {
   "cell_type": "code",
   "execution_count": 58,
   "id": "7d9257e6",
   "metadata": {},
   "outputs": [],
   "source": [
    "skipped = set()\n",
    "double_instance = set()"
   ]
  },
  {
   "cell_type": "code",
   "execution_count": 60,
   "id": "f39a6403",
   "metadata": {},
   "outputs": [],
   "source": [
    "def has_path_networkx_subclass(rdict: Rdict, source: str, target: str) -> bool:\n",
    "    entries = rdict.get(source, dict()).get('instance_of', [])\n",
    "    \n",
    "    if target not in subclass_graph.nodes:\n",
    "        skipped.add(target)\n",
    "        return False\n",
    "    \n",
    "    double_instance.update(set(entries) - subclass_graph.nodes)\n",
    "    \n",
    "    return any([\n",
    "        nx.has_path(subclass_graph, entry, target)\n",
    "        for entry in set(entries) & subclass_graph.nodes\n",
    "    ])"
   ]
  },
  {
   "cell_type": "code",
   "execution_count": 45,
   "id": "2f2ae4ac",
   "metadata": {},
   "outputs": [
    {
     "name": "stdout",
     "output_type": "stream",
     "text": [
      "94.6 µs ± 1.37 µs per loop (mean ± std. dev. of 7 runs, 10,000 loops each)\n"
     ]
    }
   ],
   "source": [
    "%timeit has_path_networkx_subclass(rdict, 'Q9188', 'Q6671777')"
   ]
  },
  {
   "cell_type": "markdown",
   "id": "3f9a00cc",
   "metadata": {},
   "source": [
    "## Using RocksDB"
   ]
  },
  {
   "cell_type": "code",
   "execution_count": 47,
   "id": "4a0baa1e",
   "metadata": {},
   "outputs": [],
   "source": [
    "def has_path_rocksdb_subclass(rdict: Rdict, source: str, target: str) -> bool:\n",
    "    visited = set()\n",
    "    stack: list[str] = [source]\n",
    "    visited.add(source)\n",
    "    \n",
    "    while stack:\n",
    "        curr = stack.pop()\n",
    "        for neigh in rdict[curr].get('subclass_of', []):\n",
    "            if neigh in visited:\n",
    "                continue\n",
    "            \n",
    "            if neigh == target:\n",
    "                return True\n",
    "\n",
    "            visited.add(neigh)\n",
    "            stack.append(neigh)\n",
    "    \n",
    "    return False"
   ]
  },
  {
   "cell_type": "code",
   "execution_count": 37,
   "id": "05b18983",
   "metadata": {},
   "outputs": [
    {
     "name": "stdout",
     "output_type": "stream",
     "text": [
      "178 µs ± 3.76 µs per loop (mean ± std. dev. of 7 runs, 10,000 loops each)\n"
     ]
    }
   ],
   "source": [
    "%timeit has_path_rocksdb_subclass(rdict, 'Q11303', 'Q6671777')"
   ]
  },
  {
   "cell_type": "code",
   "execution_count": 48,
   "id": "15c6d0a8",
   "metadata": {},
   "outputs": [],
   "source": [
    "def has_path_rocksdb(rdict: Rdict, source: str, target: str) -> bool:\n",
    "    entries = rdict[source].get('instance_of', [])\n",
    "    return any([has_path_rocksdb_subclass(rdict, entry, target) for entry in entries])"
   ]
  },
  {
   "cell_type": "code",
   "execution_count": 49,
   "id": "311aeae6",
   "metadata": {},
   "outputs": [
    {
     "name": "stdout",
     "output_type": "stream",
     "text": [
      "381 µs ± 11 µs per loop (mean ± std. dev. of 7 runs, 1,000 loops each)\n"
     ]
    }
   ],
   "source": [
    "%timeit has_path_rocksdb(rdict, 'Q9188', 'Q6671777')"
   ]
  },
  {
   "cell_type": "markdown",
   "id": "37ac056f",
   "metadata": {},
   "source": [
    "## All NetworkX"
   ]
  },
  {
   "cell_type": "markdown",
   "id": "4a91bade",
   "metadata": {},
   "source": [
    "Do not try this at home! :)"
   ]
  },
  {
   "cell_type": "code",
   "execution_count": null,
   "id": "fa1d9319",
   "metadata": {},
   "outputs": [],
   "source": [
    "# %%time\n",
    "\n",
    "# all_edges = []\n",
    "# for key, values in rdict.items():\n",
    "#     for super_class in values.get('subclass_of', []) + values.get('instance_of', []):\n",
    "#         all_edges.append((key, super_class))\n",
    "        \n",
    "# len(all_edges), sys.getsizeof(all_edges)"
   ]
  },
  {
   "cell_type": "code",
   "execution_count": null,
   "id": "44c57c8d",
   "metadata": {},
   "outputs": [],
   "source": [
    "all_graph = nx.DiGraph(all_edges)"
   ]
  },
  {
   "cell_type": "markdown",
   "id": "28699b77",
   "metadata": {},
   "source": [
    "# Benchmark"
   ]
  },
  {
   "cell_type": "code",
   "execution_count": 20,
   "id": "38d3ecc3",
   "metadata": {},
   "outputs": [
    {
     "name": "stdout",
     "output_type": "stream",
     "text": [
      "db2.rocks      subtypes.ipynb\t       types_to_validate.zip\r\n",
      "db2.rocks.zip  types_to_validate.json\r\n"
     ]
    }
   ],
   "source": [
    "!ls"
   ]
  },
  {
   "cell_type": "code",
   "execution_count": 27,
   "id": "6980deae",
   "metadata": {},
   "outputs": [],
   "source": [
    "import json, tqdm"
   ]
  },
  {
   "cell_type": "code",
   "execution_count": 21,
   "id": "f91f5e14",
   "metadata": {},
   "outputs": [],
   "source": [
    "with open('types_to_validate.json', 'r', encoding='utf-8') as f:\n",
    "    types_to_validate = json.load(f)"
   ]
  },
  {
   "cell_type": "code",
   "execution_count": 78,
   "id": "f51a0746",
   "metadata": {},
   "outputs": [],
   "source": [
    "with open('f', 'r', encoding='utf-8') as f:\n",
    "    q5_correct = json.load(f)"
   ]
  },
  {
   "cell_type": "code",
   "execution_count": 22,
   "id": "b046f5c5",
   "metadata": {},
   "outputs": [
    {
     "data": {
      "text/plain": [
       "8594"
      ]
     },
     "execution_count": 22,
     "metadata": {},
     "output_type": "execute_result"
    }
   ],
   "source": [
    "len(types_to_validate)"
   ]
  },
  {
   "cell_type": "code",
   "execution_count": 25,
   "id": "434f091a",
   "metadata": {},
   "outputs": [
    {
     "data": {
      "text/plain": [
       "['http://www.wikidata.org/entity/Q5',\n",
       " 'http://www.wikidata.org/entity/Q4',\n",
       " 'http://www.wikidata.org/entity/Q571',\n",
       " 'http://www.wikidata.org/entity/Q7366',\n",
       " 'http://www.wikidata.org/entity/Q7278']"
      ]
     },
     "execution_count": 25,
     "metadata": {},
     "output_type": "execute_result"
    }
   ],
   "source": [
    "list(types_to_validate.keys())[:5]"
   ]
  },
  {
   "cell_type": "code",
   "execution_count": 26,
   "id": "6fdd71cf",
   "metadata": {},
   "outputs": [
    {
     "data": {
      "text/plain": [
       "62692"
      ]
     },
     "execution_count": 26,
     "metadata": {},
     "output_type": "execute_result"
    }
   ],
   "source": [
    "len(types_to_validate['http://www.wikidata.org/entity/Q5'])"
   ]
  },
  {
   "cell_type": "code",
   "execution_count": 61,
   "id": "70496266",
   "metadata": {},
   "outputs": [
    {
     "name": "stderr",
     "output_type": "stream",
     "text": [
      "100%|████████████████████████████████████████████████████████████████████████████████████████████████████████████████████████████████████████████████████████████████████████████████████████████████████████████████████████████████████| 8594/8594 [01:02<00:00, 137.14it/s]"
     ]
    },
    {
     "name": "stdout",
     "output_type": "stream",
     "text": [
      "CPU times: user 59.7 s, sys: 2.96 s, total: 1min 2s\n",
      "Wall time: 1min 2s\n"
     ]
    },
    {
     "name": "stderr",
     "output_type": "stream",
     "text": [
      "\n"
     ]
    }
   ],
   "source": [
    "%%time\n",
    "\n",
    "validated = dict()\n",
    "for target_url, sources in tqdm.tqdm(list(types_to_validate.items())):\n",
    "    target = target_url.rsplit('/')[-1]\n",
    "    validated[target] = []\n",
    "    for source in sources:\n",
    "        if has_path_networkx_subclass(rdict, source, target):\n",
    "            validated[target].append(source)"
   ]
  },
  {
   "cell_type": "code",
   "execution_count": 106,
   "id": "1ed86a4b",
   "metadata": {},
   "outputs": [
    {
     "data": {
      "text/plain": [
       "43"
      ]
     },
     "execution_count": 106,
     "metadata": {},
     "output_type": "execute_result"
    }
   ],
   "source": [
    "len(validated['Q5'])  # from types_to_validate.json"
   ]
  },
  {
   "cell_type": "code",
   "execution_count": null,
   "id": "55ade8e3",
   "metadata": {},
   "outputs": [],
   "source": []
  },
  {
   "cell_type": "code",
   "execution_count": 104,
   "id": "0d2d357f",
   "metadata": {},
   "outputs": [
    {
     "name": "stdout",
     "output_type": "stream",
     "text": [
      "Q172964\n",
      "CPU times: user 5.53 s, sys: 0 ns, total: 5.53 s\n",
      "Wall time: 5.53 s\n"
     ]
    }
   ],
   "source": [
    "%%time\n",
    "for candidate in q5_correct['correct']:\n",
    "    assert nx.has_path(subclass_graph, candidate, 'Q5')\n",
    "\n",
    "for candidate in q5_correct['incorrect']:\n",
    "    if candidate not in subclass_graph:\n",
    "        continue\n",
    "    \n",
    "    if nx.has_path(subclass_graph, candidate, 'Q5'):\n",
    "        print(candidate)\n",
    "#     assert not nx.has_path(subclass_graph, candidate, 'Q5'), candidate"
   ]
  },
  {
   "cell_type": "code",
   "execution_count": 105,
   "id": "3efb4bd0",
   "metadata": {},
   "outputs": [
    {
     "data": {
      "text/plain": [
       "350"
      ]
     },
     "execution_count": 105,
     "metadata": {},
     "output_type": "execute_result"
    }
   ],
   "source": [
    "len(q5_correct['correct'])"
   ]
  },
  {
   "cell_type": "code",
   "execution_count": null,
   "id": "e7570e7b",
   "metadata": {},
   "outputs": [],
   "source": []
  },
  {
   "cell_type": "code",
   "execution_count": null,
   "id": "4cd41933",
   "metadata": {},
   "outputs": [],
   "source": []
  }
 ],
 "metadata": {
  "kernelspec": {
   "display_name": "asdf-py310",
   "language": "python",
   "name": "asdf-py310"
  },
  "language_info": {
   "codemirror_mode": {
    "name": "ipython",
    "version": 3
   },
   "file_extension": ".py",
   "mimetype": "text/x-python",
   "name": "python",
   "nbconvert_exporter": "python",
   "pygments_lexer": "ipython3",
   "version": "3.10.5"
  }
 },
 "nbformat": 4,
 "nbformat_minor": 5
}
